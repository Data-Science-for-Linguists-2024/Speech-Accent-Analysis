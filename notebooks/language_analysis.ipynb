{
 "cells": [
  {
   "cell_type": "markdown",
   "metadata": {},
   "source": [
    "# Language Prediction and Analysis\n",
    "Dastan Abdulla  \n",
    "Ling 1340: Data Science for Linguists  \n",
    "04/08/2024  "
   ]
  },
  {
   "cell_type": "code",
   "execution_count": 1,
   "metadata": {},
   "outputs": [],
   "source": [
    "import warnings\n",
    "from sklearn.exceptions import ConvergenceWarning\n",
    "\n",
    "warnings.filterwarnings(\"ignore\", category=ConvergenceWarning)"
   ]
  },
  {
   "cell_type": "code",
   "execution_count": 2,
   "metadata": {},
   "outputs": [],
   "source": [
    "# Imports\n",
    "import pandas as pd\n",
    "import numpy as np\n",
    "# For plotting\n",
    "import seaborn as sns\n",
    "import matplotlib.pyplot as plt\n",
    "import matplotlib as mpl"
   ]
  },
  {
   "cell_type": "code",
   "execution_count": 3,
   "metadata": {},
   "outputs": [
    {
     "data": {
      "text/html": [
       "<div>\n",
       "<style scoped>\n",
       "    .dataframe tbody tr th:only-of-type {\n",
       "        vertical-align: middle;\n",
       "    }\n",
       "\n",
       "    .dataframe tbody tr th {\n",
       "        vertical-align: top;\n",
       "    }\n",
       "\n",
       "    .dataframe thead th {\n",
       "        text-align: right;\n",
       "    }\n",
       "</style>\n",
       "<table border=\"1\" class=\"dataframe\">\n",
       "  <thead>\n",
       "    <tr style=\"text-align: right;\">\n",
       "      <th></th>\n",
       "      <th>speakerid</th>\n",
       "      <th>native_language</th>\n",
       "      <th>country</th>\n",
       "      <th>age</th>\n",
       "      <th>gender</th>\n",
       "      <th>onset_age</th>\n",
       "      <th>english_residence</th>\n",
       "      <th>length_of_residence</th>\n",
       "      <th>learning_style</th>\n",
       "      <th>speech_sample</th>\n",
       "      <th>phonetic_transcription</th>\n",
       "      <th>ethnologue_language_code</th>\n",
       "      <th>language_name</th>\n",
       "      <th>macroarea</th>\n",
       "      <th>coordinate</th>\n",
       "    </tr>\n",
       "  </thead>\n",
       "  <tbody>\n",
       "    <tr>\n",
       "      <th>0</th>\n",
       "      <td>1</td>\n",
       "      <td>afrikaans</td>\n",
       "      <td>south africa</td>\n",
       "      <td>27.0</td>\n",
       "      <td>female</td>\n",
       "      <td>9.0</td>\n",
       "      <td>usa</td>\n",
       "      <td>0.50</td>\n",
       "      <td>academic</td>\n",
       "      <td>afrikaans1.wav</td>\n",
       "      <td>afrikaans1.txt</td>\n",
       "      <td>afr</td>\n",
       "      <td>Afrikaans</td>\n",
       "      <td>Africa</td>\n",
       "      <td>(-30.559482, 22.937506)</td>\n",
       "    </tr>\n",
       "    <tr>\n",
       "      <th>1</th>\n",
       "      <td>2</td>\n",
       "      <td>afrikaans</td>\n",
       "      <td>south africa</td>\n",
       "      <td>40.0</td>\n",
       "      <td>male</td>\n",
       "      <td>5.0</td>\n",
       "      <td>usa</td>\n",
       "      <td>10.00</td>\n",
       "      <td>academic</td>\n",
       "      <td>afrikaans2.wav</td>\n",
       "      <td>afrikaans2.txt</td>\n",
       "      <td>afr</td>\n",
       "      <td>Afrikaans</td>\n",
       "      <td>Africa</td>\n",
       "      <td>(-30.559482, 22.937506)</td>\n",
       "    </tr>\n",
       "    <tr>\n",
       "      <th>2</th>\n",
       "      <td>3</td>\n",
       "      <td>agni</td>\n",
       "      <td>côte d'ivoire</td>\n",
       "      <td>25.0</td>\n",
       "      <td>male</td>\n",
       "      <td>15.0</td>\n",
       "      <td>usa</td>\n",
       "      <td>1.20</td>\n",
       "      <td>academic</td>\n",
       "      <td>agni1.wav</td>\n",
       "      <td>agny1.txt</td>\n",
       "      <td>any</td>\n",
       "      <td>Anyin</td>\n",
       "      <td>Africa</td>\n",
       "      <td>(7.539989, -5.54708)</td>\n",
       "    </tr>\n",
       "    <tr>\n",
       "      <th>3</th>\n",
       "      <td>4</td>\n",
       "      <td>albanian</td>\n",
       "      <td>serbia</td>\n",
       "      <td>19.0</td>\n",
       "      <td>male</td>\n",
       "      <td>6.0</td>\n",
       "      <td>usa</td>\n",
       "      <td>3.00</td>\n",
       "      <td>naturalistic</td>\n",
       "      <td>albanian1.wav</td>\n",
       "      <td>albanian1.txt</td>\n",
       "      <td>als</td>\n",
       "      <td>Tosk Albanian</td>\n",
       "      <td>Eurasia</td>\n",
       "      <td>(44.016521, 21.005859)</td>\n",
       "    </tr>\n",
       "    <tr>\n",
       "      <th>4</th>\n",
       "      <td>5</td>\n",
       "      <td>albanian</td>\n",
       "      <td>albania</td>\n",
       "      <td>33.0</td>\n",
       "      <td>male</td>\n",
       "      <td>15.0</td>\n",
       "      <td>usa</td>\n",
       "      <td>0.04</td>\n",
       "      <td>naturalistic</td>\n",
       "      <td>albanian2.wav</td>\n",
       "      <td>albanian2.txt</td>\n",
       "      <td>aln</td>\n",
       "      <td>Gheg Albanian</td>\n",
       "      <td>Eurasia</td>\n",
       "      <td>(41.153332, 20.168331)</td>\n",
       "    </tr>\n",
       "  </tbody>\n",
       "</table>\n",
       "</div>"
      ],
      "text/plain": [
       "   speakerid native_language        country   age  gender  onset_age  \\\n",
       "0          1       afrikaans   south africa  27.0  female        9.0   \n",
       "1          2       afrikaans   south africa  40.0    male        5.0   \n",
       "2          3            agni  côte d'ivoire  25.0    male       15.0   \n",
       "3          4        albanian         serbia  19.0    male        6.0   \n",
       "4          5        albanian        albania  33.0    male       15.0   \n",
       "\n",
       "  english_residence  length_of_residence learning_style   speech_sample  \\\n",
       "0               usa                 0.50       academic  afrikaans1.wav   \n",
       "1               usa                10.00       academic  afrikaans2.wav   \n",
       "2               usa                 1.20       academic       agni1.wav   \n",
       "3               usa                 3.00   naturalistic   albanian1.wav   \n",
       "4               usa                 0.04   naturalistic   albanian2.wav   \n",
       "\n",
       "  phonetic_transcription ethnologue_language_code  language_name macroarea  \\\n",
       "0         afrikaans1.txt                      afr      Afrikaans    Africa   \n",
       "1         afrikaans2.txt                      afr      Afrikaans    Africa   \n",
       "2              agny1.txt                      any          Anyin    Africa   \n",
       "3          albanian1.txt                      als  Tosk Albanian   Eurasia   \n",
       "4          albanian2.txt                      aln  Gheg Albanian   Eurasia   \n",
       "\n",
       "                coordinate  \n",
       "0  (-30.559482, 22.937506)  \n",
       "1  (-30.559482, 22.937506)  \n",
       "2     (7.539989, -5.54708)  \n",
       "3   (44.016521, 21.005859)  \n",
       "4   (41.153332, 20.168331)  "
      ]
     },
     "execution_count": 3,
     "metadata": {},
     "output_type": "execute_result"
    }
   ],
   "source": [
    "bio_df = pd.read_pickle('../data/bio_df.pkl')\n",
    "bio_df.head(5)"
   ]
  },
  {
   "cell_type": "code",
   "execution_count": 4,
   "metadata": {},
   "outputs": [
    {
     "data": {
      "text/html": [
       "<div>\n",
       "<style scoped>\n",
       "    .dataframe tbody tr th:only-of-type {\n",
       "        vertical-align: middle;\n",
       "    }\n",
       "\n",
       "    .dataframe tbody tr th {\n",
       "        vertical-align: top;\n",
       "    }\n",
       "\n",
       "    .dataframe thead th {\n",
       "        text-align: right;\n",
       "    }\n",
       "</style>\n",
       "<table border=\"1\" class=\"dataframe\">\n",
       "  <thead>\n",
       "    <tr style=\"text-align: right;\">\n",
       "      <th></th>\n",
       "      <th>speakerid</th>\n",
       "      <th>transcription</th>\n",
       "      <th>anterior</th>\n",
       "      <th>consonantal</th>\n",
       "      <th>labial</th>\n",
       "      <th>sagittal</th>\n",
       "      <th>back</th>\n",
       "      <th>constricted_glottis</th>\n",
       "      <th>continuant</th>\n",
       "      <th>coronal</th>\n",
       "      <th>...</th>\n",
       "      <th>long</th>\n",
       "      <th>nasal</th>\n",
       "      <th>round</th>\n",
       "      <th>sonorant</th>\n",
       "      <th>syllabic</th>\n",
       "      <th>velaric</th>\n",
       "      <th>voice</th>\n",
       "      <th>distributed</th>\n",
       "      <th>strident</th>\n",
       "      <th>tense</th>\n",
       "    </tr>\n",
       "  </thead>\n",
       "  <tbody>\n",
       "    <tr>\n",
       "      <th>0</th>\n",
       "      <td>1</td>\n",
       "      <td>pʰlis kɔl stɛːlʌ ɑsk˺ ɜ tə bɹɪ̃ŋ ðiz θɪ̃ŋz̥ wɪ...</td>\n",
       "      <td>114</td>\n",
       "      <td>126</td>\n",
       "      <td>38</td>\n",
       "      <td>1</td>\n",
       "      <td>74</td>\n",
       "      <td>1</td>\n",
       "      <td>166</td>\n",
       "      <td>87</td>\n",
       "      <td>...</td>\n",
       "      <td>4</td>\n",
       "      <td>24</td>\n",
       "      <td>31</td>\n",
       "      <td>138</td>\n",
       "      <td>89</td>\n",
       "      <td>0</td>\n",
       "      <td>165</td>\n",
       "      <td>12</td>\n",
       "      <td>11</td>\n",
       "      <td>45</td>\n",
       "    </tr>\n",
       "    <tr>\n",
       "      <th>1</th>\n",
       "      <td>2</td>\n",
       "      <td>pʰliːz̥ kʰɔl stɛ̆lʌ ɔsk hɜ tŭ bɹiŋ ðiz θiŋz̥ ...</td>\n",
       "      <td>109</td>\n",
       "      <td>125</td>\n",
       "      <td>37</td>\n",
       "      <td>6</td>\n",
       "      <td>69</td>\n",
       "      <td>1</td>\n",
       "      <td>160</td>\n",
       "      <td>85</td>\n",
       "      <td>...</td>\n",
       "      <td>6</td>\n",
       "      <td>24</td>\n",
       "      <td>31</td>\n",
       "      <td>131</td>\n",
       "      <td>84</td>\n",
       "      <td>0</td>\n",
       "      <td>162</td>\n",
       "      <td>15</td>\n",
       "      <td>9</td>\n",
       "      <td>43</td>\n",
       "    </tr>\n",
       "    <tr>\n",
       "      <th>2</th>\n",
       "      <td>3</td>\n",
       "      <td>pliz kɑl stelə æs hɚ tu bɹɪ̃ŋ viz fɪŋ wɪf hɜɹ̆...</td>\n",
       "      <td>111</td>\n",
       "      <td>119</td>\n",
       "      <td>45</td>\n",
       "      <td>1</td>\n",
       "      <td>59</td>\n",
       "      <td>1</td>\n",
       "      <td>158</td>\n",
       "      <td>78</td>\n",
       "      <td>...</td>\n",
       "      <td>0</td>\n",
       "      <td>26</td>\n",
       "      <td>31</td>\n",
       "      <td>134</td>\n",
       "      <td>81</td>\n",
       "      <td>0</td>\n",
       "      <td>164</td>\n",
       "      <td>4</td>\n",
       "      <td>16</td>\n",
       "      <td>51</td>\n",
       "    </tr>\n",
       "    <tr>\n",
       "      <th>3</th>\n",
       "      <td>4</td>\n",
       "      <td>p̬liz kʰɔl stɛla æs xɜɹ tu bɹɪ̃ŋ ðɪs θɪ̃ŋks wɪ...</td>\n",
       "      <td>119</td>\n",
       "      <td>129</td>\n",
       "      <td>39</td>\n",
       "      <td>5</td>\n",
       "      <td>79</td>\n",
       "      <td>0</td>\n",
       "      <td>173</td>\n",
       "      <td>95</td>\n",
       "      <td>...</td>\n",
       "      <td>0</td>\n",
       "      <td>33</td>\n",
       "      <td>39</td>\n",
       "      <td>145</td>\n",
       "      <td>87</td>\n",
       "      <td>0</td>\n",
       "      <td>173</td>\n",
       "      <td>13</td>\n",
       "      <td>8</td>\n",
       "      <td>47</td>\n",
       "    </tr>\n",
       "    <tr>\n",
       "      <th>4</th>\n",
       "      <td>5</td>\n",
       "      <td>pliz kɔl stɛlə æsk hɛɹ tu bɹɪ̃ŋ ðɪs θɪ̃ŋs wɪð ...</td>\n",
       "      <td>122</td>\n",
       "      <td>136</td>\n",
       "      <td>37</td>\n",
       "      <td>1</td>\n",
       "      <td>63</td>\n",
       "      <td>0</td>\n",
       "      <td>171</td>\n",
       "      <td>97</td>\n",
       "      <td>...</td>\n",
       "      <td>4</td>\n",
       "      <td>35</td>\n",
       "      <td>33</td>\n",
       "      <td>138</td>\n",
       "      <td>87</td>\n",
       "      <td>0</td>\n",
       "      <td>159</td>\n",
       "      <td>15</td>\n",
       "      <td>11</td>\n",
       "      <td>41</td>\n",
       "    </tr>\n",
       "  </tbody>\n",
       "</table>\n",
       "<p>5 rows × 24 columns</p>\n",
       "</div>"
      ],
      "text/plain": [
       "   speakerid                                      transcription  anterior  \\\n",
       "0          1  pʰlis kɔl stɛːlʌ ɑsk˺ ɜ tə bɹɪ̃ŋ ðiz θɪ̃ŋz̥ wɪ...       114   \n",
       "1          2  pʰliːz̥ kʰɔl stɛ̆lʌ ɔsk hɜ tŭ bɹiŋ ðiz θiŋz̥ ...       109   \n",
       "2          3  pliz kɑl stelə æs hɚ tu bɹɪ̃ŋ viz fɪŋ wɪf hɜɹ̆...       111   \n",
       "3          4  p̬liz kʰɔl stɛla æs xɜɹ tu bɹɪ̃ŋ ðɪs θɪ̃ŋks wɪ...       119   \n",
       "4          5  pliz kɔl stɛlə æsk hɛɹ tu bɹɪ̃ŋ ðɪs θɪ̃ŋs wɪð ...       122   \n",
       "\n",
       "   consonantal  labial  sagittal  back  constricted_glottis  continuant  \\\n",
       "0          126      38         1    74                    1         166   \n",
       "1          125      37         6    69                    1         160   \n",
       "2          119      45         1    59                    1         158   \n",
       "3          129      39         5    79                    0         173   \n",
       "4          136      37         1    63                    0         171   \n",
       "\n",
       "   coronal  ...  long  nasal  round  sonorant  syllabic  velaric  voice  \\\n",
       "0       87  ...     4     24     31       138        89        0    165   \n",
       "1       85  ...     6     24     31       131        84        0    162   \n",
       "2       78  ...     0     26     31       134        81        0    164   \n",
       "3       95  ...     0     33     39       145        87        0    173   \n",
       "4       97  ...     4     35     33       138        87        0    159   \n",
       "\n",
       "   distributed  strident  tense  \n",
       "0           12        11     45  \n",
       "1           15         9     43  \n",
       "2            4        16     51  \n",
       "3           13         8     47  \n",
       "4           15        11     41  \n",
       "\n",
       "[5 rows x 24 columns]"
      ]
     },
     "execution_count": 4,
     "metadata": {},
     "output_type": "execute_result"
    }
   ],
   "source": [
    "features_df = pd.read_pickle('../data/features_df.pkl')\n",
    "features_df.head(5)"
   ]
  },
  {
   "cell_type": "code",
   "execution_count": 5,
   "metadata": {},
   "outputs": [],
   "source": [
    "saa_tran_df = pd.concat([bio_df, features_df], axis=1)"
   ]
  },
  {
   "cell_type": "code",
   "execution_count": 6,
   "metadata": {},
   "outputs": [
    {
     "data": {
      "text/html": [
       "<div>\n",
       "<style scoped>\n",
       "    .dataframe tbody tr th:only-of-type {\n",
       "        vertical-align: middle;\n",
       "    }\n",
       "\n",
       "    .dataframe tbody tr th {\n",
       "        vertical-align: top;\n",
       "    }\n",
       "\n",
       "    .dataframe thead th {\n",
       "        text-align: right;\n",
       "    }\n",
       "</style>\n",
       "<table border=\"1\" class=\"dataframe\">\n",
       "  <thead>\n",
       "    <tr style=\"text-align: right;\">\n",
       "      <th></th>\n",
       "      <th>speakerid</th>\n",
       "      <th>native_language</th>\n",
       "      <th>country</th>\n",
       "      <th>age</th>\n",
       "      <th>gender</th>\n",
       "      <th>onset_age</th>\n",
       "      <th>english_residence</th>\n",
       "      <th>length_of_residence</th>\n",
       "      <th>learning_style</th>\n",
       "      <th>speech_sample</th>\n",
       "      <th>...</th>\n",
       "      <th>long</th>\n",
       "      <th>nasal</th>\n",
       "      <th>round</th>\n",
       "      <th>sonorant</th>\n",
       "      <th>syllabic</th>\n",
       "      <th>velaric</th>\n",
       "      <th>voice</th>\n",
       "      <th>distributed</th>\n",
       "      <th>strident</th>\n",
       "      <th>tense</th>\n",
       "    </tr>\n",
       "  </thead>\n",
       "  <tbody>\n",
       "    <tr>\n",
       "      <th>0</th>\n",
       "      <td>1</td>\n",
       "      <td>afrikaans</td>\n",
       "      <td>south africa</td>\n",
       "      <td>27.0</td>\n",
       "      <td>female</td>\n",
       "      <td>9.0</td>\n",
       "      <td>usa</td>\n",
       "      <td>0.50</td>\n",
       "      <td>academic</td>\n",
       "      <td>afrikaans1.wav</td>\n",
       "      <td>...</td>\n",
       "      <td>4</td>\n",
       "      <td>24</td>\n",
       "      <td>31</td>\n",
       "      <td>138</td>\n",
       "      <td>89</td>\n",
       "      <td>0</td>\n",
       "      <td>165</td>\n",
       "      <td>12</td>\n",
       "      <td>11</td>\n",
       "      <td>45</td>\n",
       "    </tr>\n",
       "    <tr>\n",
       "      <th>1</th>\n",
       "      <td>2</td>\n",
       "      <td>afrikaans</td>\n",
       "      <td>south africa</td>\n",
       "      <td>40.0</td>\n",
       "      <td>male</td>\n",
       "      <td>5.0</td>\n",
       "      <td>usa</td>\n",
       "      <td>10.00</td>\n",
       "      <td>academic</td>\n",
       "      <td>afrikaans2.wav</td>\n",
       "      <td>...</td>\n",
       "      <td>6</td>\n",
       "      <td>24</td>\n",
       "      <td>31</td>\n",
       "      <td>131</td>\n",
       "      <td>84</td>\n",
       "      <td>0</td>\n",
       "      <td>162</td>\n",
       "      <td>15</td>\n",
       "      <td>9</td>\n",
       "      <td>43</td>\n",
       "    </tr>\n",
       "    <tr>\n",
       "      <th>2</th>\n",
       "      <td>3</td>\n",
       "      <td>agni</td>\n",
       "      <td>côte d'ivoire</td>\n",
       "      <td>25.0</td>\n",
       "      <td>male</td>\n",
       "      <td>15.0</td>\n",
       "      <td>usa</td>\n",
       "      <td>1.20</td>\n",
       "      <td>academic</td>\n",
       "      <td>agni1.wav</td>\n",
       "      <td>...</td>\n",
       "      <td>0</td>\n",
       "      <td>26</td>\n",
       "      <td>31</td>\n",
       "      <td>134</td>\n",
       "      <td>81</td>\n",
       "      <td>0</td>\n",
       "      <td>164</td>\n",
       "      <td>4</td>\n",
       "      <td>16</td>\n",
       "      <td>51</td>\n",
       "    </tr>\n",
       "    <tr>\n",
       "      <th>3</th>\n",
       "      <td>4</td>\n",
       "      <td>albanian</td>\n",
       "      <td>serbia</td>\n",
       "      <td>19.0</td>\n",
       "      <td>male</td>\n",
       "      <td>6.0</td>\n",
       "      <td>usa</td>\n",
       "      <td>3.00</td>\n",
       "      <td>naturalistic</td>\n",
       "      <td>albanian1.wav</td>\n",
       "      <td>...</td>\n",
       "      <td>0</td>\n",
       "      <td>33</td>\n",
       "      <td>39</td>\n",
       "      <td>145</td>\n",
       "      <td>87</td>\n",
       "      <td>0</td>\n",
       "      <td>173</td>\n",
       "      <td>13</td>\n",
       "      <td>8</td>\n",
       "      <td>47</td>\n",
       "    </tr>\n",
       "    <tr>\n",
       "      <th>4</th>\n",
       "      <td>5</td>\n",
       "      <td>albanian</td>\n",
       "      <td>albania</td>\n",
       "      <td>33.0</td>\n",
       "      <td>male</td>\n",
       "      <td>15.0</td>\n",
       "      <td>usa</td>\n",
       "      <td>0.04</td>\n",
       "      <td>naturalistic</td>\n",
       "      <td>albanian2.wav</td>\n",
       "      <td>...</td>\n",
       "      <td>4</td>\n",
       "      <td>35</td>\n",
       "      <td>33</td>\n",
       "      <td>138</td>\n",
       "      <td>87</td>\n",
       "      <td>0</td>\n",
       "      <td>159</td>\n",
       "      <td>15</td>\n",
       "      <td>11</td>\n",
       "      <td>41</td>\n",
       "    </tr>\n",
       "  </tbody>\n",
       "</table>\n",
       "<p>5 rows × 39 columns</p>\n",
       "</div>"
      ],
      "text/plain": [
       "   speakerid native_language        country   age  gender  onset_age  \\\n",
       "0          1       afrikaans   south africa  27.0  female        9.0   \n",
       "1          2       afrikaans   south africa  40.0    male        5.0   \n",
       "2          3            agni  côte d'ivoire  25.0    male       15.0   \n",
       "3          4        albanian         serbia  19.0    male        6.0   \n",
       "4          5        albanian        albania  33.0    male       15.0   \n",
       "\n",
       "  english_residence  length_of_residence learning_style   speech_sample  ...  \\\n",
       "0               usa                 0.50       academic  afrikaans1.wav  ...   \n",
       "1               usa                10.00       academic  afrikaans2.wav  ...   \n",
       "2               usa                 1.20       academic       agni1.wav  ...   \n",
       "3               usa                 3.00   naturalistic   albanian1.wav  ...   \n",
       "4               usa                 0.04   naturalistic   albanian2.wav  ...   \n",
       "\n",
       "  long nasal round sonorant syllabic  velaric voice  distributed  strident  \\\n",
       "0    4    24    31      138       89        0   165           12        11   \n",
       "1    6    24    31      131       84        0   162           15         9   \n",
       "2    0    26    31      134       81        0   164            4        16   \n",
       "3    0    33    39      145       87        0   173           13         8   \n",
       "4    4    35    33      138       87        0   159           15        11   \n",
       "\n",
       "   tense  \n",
       "0     45  \n",
       "1     43  \n",
       "2     51  \n",
       "3     47  \n",
       "4     41  \n",
       "\n",
       "[5 rows x 39 columns]"
      ]
     },
     "execution_count": 6,
     "metadata": {},
     "output_type": "execute_result"
    }
   ],
   "source": [
    "saa_tran_df.head(5)"
   ]
  },
  {
   "cell_type": "markdown",
   "metadata": {},
   "source": [
    "# Preliminary setup\n",
    "Before we begin building the classification models, we need to make sure that there ample instances of each tag or label for our model to learn from. i.e if there are only 2 instances for one native language, then our model will have an extra tag to differentiate from which would hurt the performance"
   ]
  },
  {
   "cell_type": "code",
   "execution_count": 7,
   "metadata": {},
   "outputs": [],
   "source": [
    "feature_full_names = [\n",
    "    'anterior',\n",
    "    'consonantal',\n",
    "    'labial',\n",
    "    'sagittal',\n",
    "    'back',\n",
    "    'constricted_glottis',\n",
    "    'continuant',\n",
    "    'coronal',\n",
    "    'delayed_release',\n",
    "    'high',\n",
    "    'lateral',\n",
    "    'low',\n",
    "    'long',\n",
    "    'nasal',\n",
    "    'round',\n",
    "    'sonorant',\n",
    "    'syllabic',\n",
    "    'velaric',\n",
    "    'voice',\n",
    "    'distributed',\n",
    "    'strident',\n",
    "    'tense'\n",
    "]\n"
   ]
  },
  {
   "cell_type": "markdown",
   "metadata": {},
   "source": [
    "# Testing Correlation \n",
    "Before we build a prediction model, we need to check for correlation between the features and native_languages as it will give us an idea of how our model will perform."
   ]
  },
  {
   "cell_type": "code",
   "execution_count": 8,
   "metadata": {},
   "outputs": [
    {
     "name": "stdout",
     "output_type": "stream",
     "text": [
      "Feature:  anterior \t\tSignificant: p =  2.4176664843839433e-25\n",
      "Feature:  consonantal \t\tSignificant: p =  3.8669675325099395e-31\n",
      "Feature:  labial \t\tSignificant: p =  1.0861877801837978e-11\n",
      "Feature:  sagittal \t\tSignificant: p =  8.166656923727007e-15\n",
      "Feature:  back \t\tSignificant: p =  9.926245999272957e-06\n",
      "Feature:  constricted_glottis \t\tSignificant: p =  1.8479455945109385e-06\n",
      "Feature:  continuant \t\tSignificant: p =  4.591131169294219e-12\n",
      "Feature:  coronal \t\tSignificant: p =  7.204539063077842e-21\n",
      "Feature:  delayed_release\n",
      "Kruskal-Wallis Test stat=101.4203076891935, p=0.9999999999991324\n",
      "ANOVA: \n",
      "                      df     sum_sq   mean_sq         F  PR(>F)\n",
      "C(language_name)   218.0   0.785983  0.003605  0.311575     1.0\n",
      "Residual          1050.0  12.150187  0.011572       NaN     NaN\n",
      "Feature:  high \t\tSignificant: p =  1.4518456054154734e-11\n",
      "Feature:  lateral \t\tSignificant: p =  2.7645796859362385e-10\n",
      "Feature:  low \t\tSignificant: p =  0.0003152737687833769\n",
      "Feature:  long \t\tSignificant: p =  4.375174699412863e-09\n",
      "Feature:  nasal \t\tSignificant: p =  6.493480005758533e-06\n",
      "Feature:  round \t\tSignificant: p =  2.1093393940250675e-10\n",
      "Feature:  sonorant \t\tSignificant: p =  1.6683000378046466e-07\n",
      "Feature:  syllabic \t\tSignificant: p =  0.0002893380700367166\n",
      "Feature:  velaric \t\tSignificant: p =  0.0023588863714329353\n",
      "Feature:  voice \t\tSignificant: p =  7.958416370953351e-21\n",
      "Feature:  distributed \t\tSignificant: p =  2.8618161310205765e-12\n",
      "Feature:  strident \t\tSignificant: p =  1.567342464442515e-19\n",
      "Feature:  tense \t\tSignificant: p =  9.738381476681588e-13\n"
     ]
    }
   ],
   "source": [
    "import pandas as pd\n",
    "from scipy.stats import kruskal\n",
    "from statsmodels.formula.api import ols\n",
    "from statsmodels.stats.anova import anova_lm\n",
    "\n",
    "for feature in feature_full_names:\n",
    "    stat, p = kruskal(*[group[f'{feature}'].values for name, group in saa_tran_df.groupby(\"language_name\")])\n",
    "    if p >= 0.05:\n",
    "        print('Feature: ', feature)\n",
    "        print('Kruskal-Wallis Test stat=%s, p=%s' % (stat, p))\n",
    "        print(\"ANOVA: \")\n",
    "        model = ols(f'{feature} ~ C(language_name)', data=saa_tran_df).fit()\n",
    "        anova_results = anova_lm(model)\n",
    "        print(anova_results)\n",
    "    else:\n",
    "        print('Feature: ', feature , '\\t\\tSignificant: p = ', p)\n"
   ]
  },
  {
   "cell_type": "markdown",
   "metadata": {},
   "source": [
    "## Conclusion\n",
    "The results clearly indicate that the language has a statistically significant effect on speech features, with very low p-values (< 0.0001) suggesting strong evidence against the null hypothesis, except for when it comes to the delayed_release. \n"
   ]
  },
  {
   "cell_type": "markdown",
   "metadata": {},
   "source": [
    "# Predicting Native Language"
   ]
  },
  {
   "cell_type": "code",
   "execution_count": 9,
   "metadata": {},
   "outputs": [
    {
     "data": {
      "text/html": [
       "<div>\n",
       "<style scoped>\n",
       "    .dataframe tbody tr th:only-of-type {\n",
       "        vertical-align: middle;\n",
       "    }\n",
       "\n",
       "    .dataframe tbody tr th {\n",
       "        vertical-align: top;\n",
       "    }\n",
       "\n",
       "    .dataframe thead th {\n",
       "        text-align: right;\n",
       "    }\n",
       "</style>\n",
       "<table border=\"1\" class=\"dataframe\">\n",
       "  <thead>\n",
       "    <tr style=\"text-align: right;\">\n",
       "      <th></th>\n",
       "      <th>language_name</th>\n",
       "      <th>anterior</th>\n",
       "      <th>consonantal</th>\n",
       "      <th>labial</th>\n",
       "      <th>sagittal</th>\n",
       "      <th>back</th>\n",
       "      <th>constricted_glottis</th>\n",
       "      <th>continuant</th>\n",
       "      <th>coronal</th>\n",
       "      <th>delayed_release</th>\n",
       "      <th>...</th>\n",
       "      <th>long</th>\n",
       "      <th>nasal</th>\n",
       "      <th>round</th>\n",
       "      <th>sonorant</th>\n",
       "      <th>syllabic</th>\n",
       "      <th>velaric</th>\n",
       "      <th>voice</th>\n",
       "      <th>distributed</th>\n",
       "      <th>strident</th>\n",
       "      <th>tense</th>\n",
       "    </tr>\n",
       "  </thead>\n",
       "  <tbody>\n",
       "    <tr>\n",
       "      <th>0</th>\n",
       "      <td>Afrikaans</td>\n",
       "      <td>114</td>\n",
       "      <td>126</td>\n",
       "      <td>38</td>\n",
       "      <td>1</td>\n",
       "      <td>74</td>\n",
       "      <td>1</td>\n",
       "      <td>166</td>\n",
       "      <td>87</td>\n",
       "      <td>0</td>\n",
       "      <td>...</td>\n",
       "      <td>4</td>\n",
       "      <td>24</td>\n",
       "      <td>31</td>\n",
       "      <td>138</td>\n",
       "      <td>89</td>\n",
       "      <td>0</td>\n",
       "      <td>165</td>\n",
       "      <td>12</td>\n",
       "      <td>11</td>\n",
       "      <td>45</td>\n",
       "    </tr>\n",
       "    <tr>\n",
       "      <th>1</th>\n",
       "      <td>Afrikaans</td>\n",
       "      <td>109</td>\n",
       "      <td>125</td>\n",
       "      <td>37</td>\n",
       "      <td>6</td>\n",
       "      <td>69</td>\n",
       "      <td>1</td>\n",
       "      <td>160</td>\n",
       "      <td>85</td>\n",
       "      <td>0</td>\n",
       "      <td>...</td>\n",
       "      <td>6</td>\n",
       "      <td>24</td>\n",
       "      <td>31</td>\n",
       "      <td>131</td>\n",
       "      <td>84</td>\n",
       "      <td>0</td>\n",
       "      <td>162</td>\n",
       "      <td>15</td>\n",
       "      <td>9</td>\n",
       "      <td>43</td>\n",
       "    </tr>\n",
       "    <tr>\n",
       "      <th>2</th>\n",
       "      <td>Anyin</td>\n",
       "      <td>111</td>\n",
       "      <td>119</td>\n",
       "      <td>45</td>\n",
       "      <td>1</td>\n",
       "      <td>59</td>\n",
       "      <td>1</td>\n",
       "      <td>158</td>\n",
       "      <td>78</td>\n",
       "      <td>0</td>\n",
       "      <td>...</td>\n",
       "      <td>0</td>\n",
       "      <td>26</td>\n",
       "      <td>31</td>\n",
       "      <td>134</td>\n",
       "      <td>81</td>\n",
       "      <td>0</td>\n",
       "      <td>164</td>\n",
       "      <td>4</td>\n",
       "      <td>16</td>\n",
       "      <td>51</td>\n",
       "    </tr>\n",
       "    <tr>\n",
       "      <th>3</th>\n",
       "      <td>Tosk Albanian</td>\n",
       "      <td>119</td>\n",
       "      <td>129</td>\n",
       "      <td>39</td>\n",
       "      <td>5</td>\n",
       "      <td>79</td>\n",
       "      <td>0</td>\n",
       "      <td>173</td>\n",
       "      <td>95</td>\n",
       "      <td>0</td>\n",
       "      <td>...</td>\n",
       "      <td>0</td>\n",
       "      <td>33</td>\n",
       "      <td>39</td>\n",
       "      <td>145</td>\n",
       "      <td>87</td>\n",
       "      <td>0</td>\n",
       "      <td>173</td>\n",
       "      <td>13</td>\n",
       "      <td>8</td>\n",
       "      <td>47</td>\n",
       "    </tr>\n",
       "    <tr>\n",
       "      <th>4</th>\n",
       "      <td>Gheg Albanian</td>\n",
       "      <td>122</td>\n",
       "      <td>136</td>\n",
       "      <td>37</td>\n",
       "      <td>1</td>\n",
       "      <td>63</td>\n",
       "      <td>0</td>\n",
       "      <td>171</td>\n",
       "      <td>97</td>\n",
       "      <td>0</td>\n",
       "      <td>...</td>\n",
       "      <td>4</td>\n",
       "      <td>35</td>\n",
       "      <td>33</td>\n",
       "      <td>138</td>\n",
       "      <td>87</td>\n",
       "      <td>0</td>\n",
       "      <td>159</td>\n",
       "      <td>15</td>\n",
       "      <td>11</td>\n",
       "      <td>41</td>\n",
       "    </tr>\n",
       "  </tbody>\n",
       "</table>\n",
       "<p>5 rows × 23 columns</p>\n",
       "</div>"
      ],
      "text/plain": [
       "   language_name  anterior  consonantal  labial  sagittal  back  \\\n",
       "0      Afrikaans       114          126      38         1    74   \n",
       "1      Afrikaans       109          125      37         6    69   \n",
       "2          Anyin       111          119      45         1    59   \n",
       "3  Tosk Albanian       119          129      39         5    79   \n",
       "4  Gheg Albanian       122          136      37         1    63   \n",
       "\n",
       "   constricted_glottis  continuant  coronal  delayed_release  ...  long  \\\n",
       "0                    1         166       87                0  ...     4   \n",
       "1                    1         160       85                0  ...     6   \n",
       "2                    1         158       78                0  ...     0   \n",
       "3                    0         173       95                0  ...     0   \n",
       "4                    0         171       97                0  ...     4   \n",
       "\n",
       "   nasal  round  sonorant  syllabic  velaric  voice  distributed  strident  \\\n",
       "0     24     31       138        89        0    165           12        11   \n",
       "1     24     31       131        84        0    162           15         9   \n",
       "2     26     31       134        81        0    164            4        16   \n",
       "3     33     39       145        87        0    173           13         8   \n",
       "4     35     33       138        87        0    159           15        11   \n",
       "\n",
       "   tense  \n",
       "0     45  \n",
       "1     43  \n",
       "2     51  \n",
       "3     47  \n",
       "4     41  \n",
       "\n",
       "[5 rows x 23 columns]"
      ]
     },
     "execution_count": 9,
     "metadata": {},
     "output_type": "execute_result"
    }
   ],
   "source": [
    "model_data = saa_tran_df[['language_name'] + feature_full_names]\n",
    "model_data.head()"
   ]
  },
  {
   "cell_type": "code",
   "execution_count": 10,
   "metadata": {},
   "outputs": [
    {
     "data": {
      "text/plain": [
       "language_name\n",
       "English                       186\n",
       "Spanish                        74\n",
       "French                         44\n",
       "Dutch                          42\n",
       "Portuguese                     39\n",
       "                             ... \n",
       "Baga Sitemu                     1\n",
       "Guadeloupean Creole French      1\n",
       "Zulu                            1\n",
       "Central Bai                     1\n",
       "Masbatenyo                      1\n",
       "Name: count, Length: 219, dtype: int64"
      ]
     },
     "execution_count": 10,
     "metadata": {},
     "output_type": "execute_result"
    }
   ],
   "source": [
    "value_counts = model_data['language_name'].value_counts()\n",
    "value_counts"
   ]
  },
  {
   "cell_type": "code",
   "execution_count": 11,
   "metadata": {},
   "outputs": [
    {
     "name": "stdout",
     "output_type": "stream",
     "text": [
      "95\n"
     ]
    },
    {
     "data": {
      "text/plain": [
       "Index(['Mankanya', 'Balanta-Ganja', 'Luba-Lulua', 'Mandinka',\n",
       "       'Jamaican Creole English', 'Nyanja', 'Konkani (individual language)',\n",
       "       'Lushai', 'Susu', 'Tetun Dili', 'Fataluku', 'Tajik', 'Moba', 'Turkmen',\n",
       "       'Shilluk', 'Nandi', 'Klao', 'Nuer', 'Plateau Malagasy', 'Omani Arabic',\n",
       "       'Southern Kurdish', 'Luxembourgish', 'Rundi', 'Yakut', 'Faroese',\n",
       "       'Pedi', 'Sa'a', 'Kabyle', 'Adamawa Fulfulde', 'Papiamento', 'Kalanga',\n",
       "       'Xaasongaxango', 'Arabic', 'Lingala', 'Khoekhoe', 'Gedeo',\n",
       "       'Northern Pashto', 'Central Kanuri', 'Gan Chinese', 'Kinyarwanda',\n",
       "       'Vengo', 'Ngemba', 'Jola-Fonyi', 'Carolinian', 'Chamorro', 'Anyin',\n",
       "       'Zoroastrian Dari', 'Tatar', 'Ebira', 'Bini', 'Tofanma',\n",
       "       'Fang (Cameroon)', 'Western Frisian', 'Sicilian', 'Kannada', 'Sarua',\n",
       "       'Gallurese Sardinian', 'Huamalíes-Dos de Mayo Huánuco Quechua',\n",
       "       'South Bolivian Quechua', 'Kirghiz', 'Western Panjabi', 'Lamaholot',\n",
       "       'Pohnpeian', 'Mortlockese', 'Mossi', 'Morisyen', 'Eastern Maninkakan',\n",
       "       'Tok Pisin', 'Southern Uzbek', 'Serer', 'Bamun', 'Sylheti',\n",
       "       'Chittagonian', 'Newari', 'Southern Sotho', 'Bavarian',\n",
       "       'Baharna Arabic', 'Shona', 'Sanaani Arabic', 'Northern Hindko',\n",
       "       'Central Siberian Yupik', 'Cebuano', 'Sundanese', 'Southern Thai',\n",
       "       'Goan Konkani', 'Yapese', 'Woleaian', 'Pahari-Potwari', 'Sindhi',\n",
       "       'South Central Dinka', 'Baga Sitemu', 'Guadeloupean Creole French',\n",
       "       'Zulu', 'Central Bai', 'Masbatenyo'],\n",
       "      dtype='object', name='language_name')"
      ]
     },
     "execution_count": 11,
     "metadata": {},
     "output_type": "execute_result"
    }
   ],
   "source": [
    "value_counts = model_data['language_name'].value_counts()\n",
    "to_remove = value_counts[value_counts < 2].index\n",
    "print(len(to_remove))\n",
    "to_remove"
   ]
  },
  {
   "cell_type": "markdown",
   "metadata": {},
   "source": [
    "- Based on the value counts distribution, there is no benefit in keeping the labels that occur only once in our data, so it'd make sense to remove them."
   ]
  },
  {
   "cell_type": "code",
   "execution_count": 12,
   "metadata": {},
   "outputs": [
    {
     "data": {
      "text/plain": [
       "language_name\n",
       "English                 186\n",
       "Spanish                  74\n",
       "French                   44\n",
       "Dutch                    42\n",
       "Portuguese               39\n",
       "                       ... \n",
       "San Salvador Kongo        2\n",
       "Mende (Sierra Leone)      2\n",
       "North Azerbaijani         2\n",
       "Belarusian                2\n",
       "Malayalam                 2\n",
       "Name: count, Length: 124, dtype: int64"
      ]
     },
     "execution_count": 12,
     "metadata": {},
     "output_type": "execute_result"
    }
   ],
   "source": [
    "model_data = model_data[~model_data['language_name'].isin(to_remove)]\n",
    "value_counts = model_data['language_name'].value_counts()\n",
    "value_counts"
   ]
  },
  {
   "cell_type": "code",
   "execution_count": 13,
   "metadata": {},
   "outputs": [
    {
     "name": "stdout",
     "output_type": "stream",
     "text": [
      "Accuracy: 0.2553191489361702\n"
     ]
    }
   ],
   "source": [
    "from sklearn.ensemble import RandomForestClassifier\n",
    "from sklearn.model_selection import train_test_split\n",
    "from sklearn.metrics import accuracy_score\n",
    "\n",
    "# Assuming 'combined_df' is your DataFrame with all features and the language label\n",
    "X = model_data[feature_full_names]\n",
    "y = model_data['language_name']\n",
    "\n",
    "# Splitting the dataset into training and testing sets\n",
    "X_train, X_test, y_train, y_test = train_test_split(X, y, test_size=0.2, random_state=42, stratify=y)\n",
    "\n",
    "# Initialize and train the RandomForestClassifier\n",
    "model = RandomForestClassifier(n_estimators=100, random_state=42)\n",
    "model.fit(X_train, y_train)\n",
    "\n",
    "# Predict on the test set\n",
    "y_pred = model.predict(X_test)\n",
    "\n",
    "# Evaluate the model\n",
    "accuracy = accuracy_score(y_test, y_pred)\n",
    "print(f\"Accuracy: {accuracy}\")\n"
   ]
  },
  {
   "cell_type": "code",
   "execution_count": 14,
   "metadata": {},
   "outputs": [
    {
     "data": {
      "text/plain": [
       "(1174, 22)"
      ]
     },
     "execution_count": 14,
     "metadata": {},
     "output_type": "execute_result"
    }
   ],
   "source": [
    "X.shape"
   ]
  },
  {
   "cell_type": "code",
   "execution_count": 15,
   "metadata": {},
   "outputs": [
    {
     "data": {
      "image/png": "[encoded data removed]",
      "text/plain": [
       "<Figure size 1000x500 with 1 Axes>"
      ]
     },
     "metadata": {},
     "output_type": "display_data"
    }
   ],
   "source": [
    "importances = model.feature_importances_\n",
    "\n",
    "# Sort the feature importances in descending order and get the indices\n",
    "indices = np.argsort(importances)[::-1]\n",
    "\n",
    "# Visualize the feature importances\n",
    "plt.figure(figsize=(10, 5))  \n",
    "plt.title('Feature Importances in the Phoneme Features')\n",
    "plt.bar(range(X_train.shape[1]), importances[indices], align='center')\n",
    "plt.xticks(range(X_train.shape[1]), [feature_full_names[i] for i in indices], rotation=90)\n",
    "plt.ylabel('Relative Importance')\n",
    "plt.show()"
   ]
  },
  {
   "cell_type": "code",
   "execution_count": 16,
   "metadata": {},
   "outputs": [
    {
     "data": {
      "text/plain": [
       "124"
      ]
     },
     "execution_count": 16,
     "metadata": {},
     "output_type": "execute_result"
    }
   ],
   "source": [
    "len(model_data['language_name'].unique())"
   ]
  },
  {
   "cell_type": "markdown",
   "metadata": {},
   "source": [
    "The model did not perform very well when it comes to detecting the specific language that was spoken. But this is inherently a difficult task. Let's see if the true labels are at least in the top predictions."
   ]
  },
  {
   "cell_type": "code",
   "execution_count": 17,
   "metadata": {},
   "outputs": [],
   "source": [
    "def test_top_occurence(x_test, y_test, k):\n",
    "    y_probs = model.predict_proba(x_test)\n",
    "    top_preds_indices = np.argsort(y_probs, axis=1)[:, -k:]\n",
    "    top_class_labels = np.array(model.classes_)[top_preds_indices]\n",
    "    y_test_array = y_test.to_numpy()\n",
    "    # Check if the true labels are within the top k predictions\n",
    "    matches_top = np.array([y_test_array[i] in top_class_labels[i] for i in range(len(y_test_array))])\n",
    "    return matches_top.mean()\n",
    "\n",
    "top_k = list(range(1, 100, 1))\n",
    "accuracies_phon = [test_top_occurence(X_test, y_test, k) for k in top_k]"
   ]
  },
  {
   "cell_type": "markdown",
   "metadata": {},
   "source": [
    "## What if we used the Transcriptions?"
   ]
  },
  {
   "cell_type": "code",
   "execution_count": 18,
   "metadata": {},
   "outputs": [
    {
     "data": {
      "text/plain": [
       "0    pʰlis kɔl stɛːlʌ ɑsk˺ ɜ tə bɹɪ̃ŋ ðiz θɪ̃ŋz̥ wɪ...\n",
       "1    pʰliːz̥ kʰɔl stɛ̆lʌ ɔsk hɜ tŭ bɹiŋ ðiz θiŋz̥ ...\n",
       "2    pliz kɑl stelə æs hɚ tu bɹɪ̃ŋ viz fɪŋ wɪf hɜɹ̆...\n",
       "3    p̬liz kʰɔl stɛla æs xɜɹ tu bɹɪ̃ŋ ðɪs θɪ̃ŋks wɪ...\n",
       "4    pliz kɔl stɛlə æsk hɛɹ tu bɹɪ̃ŋ ðɪs θɪ̃ŋs wɪð ...\n",
       "Name: transcription, dtype: object"
      ]
     },
     "execution_count": 18,
     "metadata": {},
     "output_type": "execute_result"
    }
   ],
   "source": [
    "saa_tran_df['transcription'][:5]"
   ]
  },
  {
   "cell_type": "code",
   "execution_count": 19,
   "metadata": {},
   "outputs": [
    {
     "data": {
      "text/html": [
       "<div>\n",
       "<style scoped>\n",
       "    .dataframe tbody tr th:only-of-type {\n",
       "        vertical-align: middle;\n",
       "    }\n",
       "\n",
       "    .dataframe tbody tr th {\n",
       "        vertical-align: top;\n",
       "    }\n",
       "\n",
       "    .dataframe thead th {\n",
       "        text-align: right;\n",
       "    }\n",
       "</style>\n",
       "<table border=\"1\" class=\"dataframe\">\n",
       "  <thead>\n",
       "    <tr style=\"text-align: right;\">\n",
       "      <th></th>\n",
       "      <th>transcription</th>\n",
       "      <th>language_name</th>\n",
       "    </tr>\n",
       "  </thead>\n",
       "  <tbody>\n",
       "    <tr>\n",
       "      <th>0</th>\n",
       "      <td>pʰlis kɔl stɛːlʌ ɑsk˺ ɜ tə bɹɪ̃ŋ ðiz θɪ̃ŋz̥ wɪ...</td>\n",
       "      <td>Afrikaans</td>\n",
       "    </tr>\n",
       "    <tr>\n",
       "      <th>1</th>\n",
       "      <td>pʰliːz̥ kʰɔl stɛ̆lʌ ɔsk hɜ tŭ bɹiŋ ðiz θiŋz̥ ...</td>\n",
       "      <td>Afrikaans</td>\n",
       "    </tr>\n",
       "    <tr>\n",
       "      <th>2</th>\n",
       "      <td>pliz kɑl stelə æs hɚ tu bɹɪ̃ŋ viz fɪŋ wɪf hɜɹ̆...</td>\n",
       "      <td>Anyin</td>\n",
       "    </tr>\n",
       "    <tr>\n",
       "      <th>3</th>\n",
       "      <td>p̬liz kʰɔl stɛla æs xɜɹ tu bɹɪ̃ŋ ðɪs θɪ̃ŋks wɪ...</td>\n",
       "      <td>Tosk Albanian</td>\n",
       "    </tr>\n",
       "    <tr>\n",
       "      <th>4</th>\n",
       "      <td>pliz kɔl stɛlə æsk hɛɹ tu bɹɪ̃ŋ ðɪs θɪ̃ŋs wɪð ...</td>\n",
       "      <td>Gheg Albanian</td>\n",
       "    </tr>\n",
       "  </tbody>\n",
       "</table>\n",
       "</div>"
      ],
      "text/plain": [
       "                                       transcription  language_name\n",
       "0  pʰlis kɔl stɛːlʌ ɑsk˺ ɜ tə bɹɪ̃ŋ ðiz θɪ̃ŋz̥ wɪ...      Afrikaans\n",
       "1  pʰliːz̥ kʰɔl stɛ̆lʌ ɔsk hɜ tŭ bɹiŋ ðiz θiŋz̥ ...      Afrikaans\n",
       "2  pliz kɑl stelə æs hɚ tu bɹɪ̃ŋ viz fɪŋ wɪf hɜɹ̆...          Anyin\n",
       "3  p̬liz kʰɔl stɛla æs xɜɹ tu bɹɪ̃ŋ ðɪs θɪ̃ŋks wɪ...  Tosk Albanian\n",
       "4  pliz kɔl stɛlə æsk hɛɹ tu bɹɪ̃ŋ ðɪs θɪ̃ŋs wɪð ...  Gheg Albanian"
      ]
     },
     "execution_count": 19,
     "metadata": {},
     "output_type": "execute_result"
    }
   ],
   "source": [
    "model_data = saa_tran_df[['transcription', 'language_name']]\n",
    "model_data.head()"
   ]
  },
  {
   "cell_type": "code",
   "execution_count": 20,
   "metadata": {},
   "outputs": [
    {
     "data": {
      "text/plain": [
       "language_name\n",
       "English                 186\n",
       "Spanish                  74\n",
       "French                   44\n",
       "Dutch                    42\n",
       "Portuguese               39\n",
       "                       ... \n",
       "San Salvador Kongo        2\n",
       "Mende (Sierra Leone)      2\n",
       "North Azerbaijani         2\n",
       "Belarusian                2\n",
       "Malayalam                 2\n",
       "Name: count, Length: 124, dtype: int64"
      ]
     },
     "execution_count": 20,
     "metadata": {},
     "output_type": "execute_result"
    }
   ],
   "source": [
    "value_counts = model_data['language_name'].value_counts()\n",
    "to_remove = value_counts[value_counts < 2].index\n",
    "model_data = model_data[~model_data['language_name'].isin(to_remove)]\n",
    "value_counts = model_data['language_name'].value_counts()\n",
    "value_counts"
   ]
  },
  {
   "cell_type": "code",
   "execution_count": 21,
   "metadata": {},
   "outputs": [],
   "source": [
    "def phoneme_tokenizer(transcript):\n",
    "    no_whitespace_transcript = transcript.replace(' ', '')\n",
    "    return [*no_whitespace_transcript]"
   ]
  },
  {
   "cell_type": "code",
   "execution_count": 22,
   "metadata": {},
   "outputs": [
    {
     "name": "stdout",
     "output_type": "stream",
     "text": [
      "Accuracy: 0.19574468085106383\n"
     ]
    }
   ],
   "source": [
    "from sklearn.linear_model import LogisticRegression\n",
    "from sklearn.feature_extraction.text import TfidfVectorizer\n",
    "from sklearn.naive_bayes import MultinomialNB\n",
    "\n",
    "# Extracting the phoneme transcriptions and language labels\n",
    "transcriptions = model_data['transcription']\n",
    "languages = model_data['language_name']\n",
    "\n",
    "# Unigrams\n",
    "vectorizer = TfidfVectorizer(max_df=0.5, max_features=1500 , tokenizer=phoneme_tokenizer, lowercase=False, token_pattern=None)\n",
    "X = vectorizer.fit_transform(transcriptions)\n",
    "feature_names = vectorizer.get_feature_names_out()\n",
    "y = model_data['language_name']\n",
    "\n",
    "X_train, X_test, y_train, y_test = train_test_split(X, y, test_size=0.2, random_state=42, stratify=y)\n",
    "\n",
    "model = MultinomialNB()\n",
    "model.fit(X_train, y_train)\n",
    "y_pred = model.predict(X_test)\n",
    "accuracy = accuracy_score(y_test, y_pred)\n",
    "print(f\"Accuracy: {accuracy}\")\n"
   ]
  },
  {
   "cell_type": "markdown",
   "metadata": {},
   "source": [
    "That is worse than the random forests model used for the Panphon phoneme columns, but we can make it better if we used trigrams."
   ]
  },
  {
   "cell_type": "code",
   "execution_count": 23,
   "metadata": {},
   "outputs": [
    {
     "name": "stdout",
     "output_type": "stream",
     "text": [
      "Accuracy: 0.251063829787234\n"
     ]
    }
   ],
   "source": [
    "from sklearn.linear_model import LogisticRegression\n",
    "from sklearn.feature_extraction.text import TfidfVectorizer\n",
    "from sklearn.naive_bayes import MultinomialNB\n",
    "\n",
    "# Extracting the phoneme transcriptions and language labels\n",
    "transcriptions = model_data['transcription']\n",
    "languages = model_data['language_name']\n",
    "\n",
    "vectorizer = TfidfVectorizer(max_df=0.5, max_features=1500 , tokenizer=phoneme_tokenizer, lowercase=False, token_pattern=None, ngram_range=(1, 3))\n",
    "X = vectorizer.fit_transform(transcriptions)\n",
    "feature_names = vectorizer.get_feature_names_out()\n",
    "y = model_data['language_name']\n",
    "\n",
    "X_train, X_test, y_train, y_test = train_test_split(X, y, test_size=0.2, random_state=42, stratify=y)\n",
    "\n",
    "model = MultinomialNB()\n",
    "model.fit(X_train, y_train)\n",
    "y_pred = model.predict(X_test)\n",
    "accuracy = accuracy_score(y_test, y_pred)\n",
    "print(f\"Accuracy: {accuracy}\")\n"
   ]
  },
  {
   "cell_type": "code",
   "execution_count": 24,
   "metadata": {},
   "outputs": [
    {
     "data": {
      "text/plain": [
       "(1174, 1500)"
      ]
     },
     "execution_count": 24,
     "metadata": {},
     "output_type": "execute_result"
    }
   ],
   "source": [
    "X.shape"
   ]
  },
  {
   "cell_type": "markdown",
   "metadata": {},
   "source": [
    "Over 6% improvement woah!"
   ]
  },
  {
   "cell_type": "code",
   "execution_count": 25,
   "metadata": {},
   "outputs": [
    {
     "name": "stdout",
     "output_type": "stream",
     "text": [
      "Top features for class 0:  ['h ɜ', '̚', 'ɛ ̆', '̆ n', 'ɛ ɪ', 'z θ', 'i ŋ', 'ə ʊ', 'ə n', 'ŋ z ̥']\n",
      "Top features for class 1:  ['ɛ ː', 'ɛ n', 'h ɛ', 'l ˠ', 'ˠ', 't ʊ', 'ː s', 'i ː s', '˺', 'ɔ l ˠ']\n",
      "Top features for class 2:  ['r', 's t ̪', '̪ ɪ', 'ɪ s', 't ̪ ɪ', 'ɝ', 'h ɝ', '̪ ɪ ̃', 'ɪ s t', 'ɔ f']\n",
      "Top features for class 3:  ['ə ɹ', 'h ə ɹ', 'ɝ', 'h ɝ', 'r', 'h ə', 'ə ɹ b', 'f ɔ ɹ', 'ɹ b', 'ŋ z ̥']\n",
      "Top features for class 4:  ['s ̪', 'r', 'ʔ', 'e s', 'i k s', 'ɜ ɹ', 'z t', 'k i d', 'i d ̥', 'k i']\n",
      "Top features for class 5:  ['̞', 'æ ̞', 'a ̃ n', 'a ̃', 'z ̥ s', 'ɪ ̆', 'ɔ v', 'z ̥ ɔ', 'k a', '̥ ɔ']\n",
      "Top features for class 6:  ['r', 'x', 'x ɜ', 'ɛ s t', '̱', 'ɛ s', 's t ̪', 's ɔ', 'r b', 'x ɛ']\n",
      "Top features for class 7:  ['r', 'h ɛ r', 'ɛ r', 'd ̥ e', 't u ̆', 'h ɜ', '̥ e', 'd ̥', 's ɪ ̃', 'u ̆']\n",
      "Top features for class 8:  ['ʈ', 'r', 'h ɜ', '̪ i', '˺', 't ̪ ɪ', '̝', 'l a', 'ʰ i', 'd ̪ i']\n",
      "Top features for class 9:  ['̪ ɪ', 'r', 'v i', 't ̪ ɪ', 'h ɝ', 'ɝ', 'v ɪ', 'ɛ r', 'n d', '˞']\n"
     ]
    }
   ],
   "source": [
    "log_prob = model.feature_log_prob_\n",
    "\n",
    "# Display the most informative features for each class\n",
    "for i, class_prob in enumerate(log_prob[:10]):\n",
    "    # Sort the probabilities along with feature names\n",
    "    sorted_features = sorted(zip(class_prob, feature_names), reverse=True)\n",
    "    print(f\"Top features for class {i}: \", [tup[1] for tup in sorted_features[:10]])"
   ]
  },
  {
   "cell_type": "code",
   "execution_count": 26,
   "metadata": {},
   "outputs": [],
   "source": [
    "accuracies_vec = [test_top_occurence(X_test, y_test, k) for k in top_k]"
   ]
  },
  {
   "cell_type": "markdown",
   "metadata": {},
   "source": [
    "## What If We Used the Audio Features?"
   ]
  },
  {
   "cell_type": "code",
   "execution_count": 27,
   "metadata": {},
   "outputs": [
    {
     "data": {
      "text/html": [
       "<div>\n",
       "<style scoped>\n",
       "    .dataframe tbody tr th:only-of-type {\n",
       "        vertical-align: middle;\n",
       "    }\n",
       "\n",
       "    .dataframe tbody tr th {\n",
       "        vertical-align: top;\n",
       "    }\n",
       "\n",
       "    .dataframe thead th {\n",
       "        text-align: right;\n",
       "    }\n",
       "</style>\n",
       "<table border=\"1\" class=\"dataframe\">\n",
       "  <thead>\n",
       "    <tr style=\"text-align: right;\">\n",
       "      <th></th>\n",
       "      <th>features</th>\n",
       "      <th>file</th>\n",
       "    </tr>\n",
       "  </thead>\n",
       "  <tbody>\n",
       "    <tr>\n",
       "      <th>0</th>\n",
       "      <td>[-320.2046203613281, 113.08561706542969, 13.68...</td>\n",
       "      <td>afrikaans1.wav</td>\n",
       "    </tr>\n",
       "    <tr>\n",
       "      <th>1</th>\n",
       "      <td>[-293.78033447265625, 124.66605377197266, -6.4...</td>\n",
       "      <td>afrikaans2.wav</td>\n",
       "    </tr>\n",
       "    <tr>\n",
       "      <th>2</th>\n",
       "      <td>[-338.8608703613281, 132.85476684570312, 6.337...</td>\n",
       "      <td>afrikaans3.wav</td>\n",
       "    </tr>\n",
       "    <tr>\n",
       "      <th>3</th>\n",
       "      <td>[-285.78668212890625, 136.85784912109375, 8.95...</td>\n",
       "      <td>afrikaans4.wav</td>\n",
       "    </tr>\n",
       "    <tr>\n",
       "      <th>4</th>\n",
       "      <td>[-371.3587646484375, 134.38897705078125, 3.720...</td>\n",
       "      <td>afrikaans5.wav</td>\n",
       "    </tr>\n",
       "  </tbody>\n",
       "</table>\n",
       "</div>"
      ],
      "text/plain": [
       "                                            features            file\n",
       "0  [-320.2046203613281, 113.08561706542969, 13.68...  afrikaans1.wav\n",
       "1  [-293.78033447265625, 124.66605377197266, -6.4...  afrikaans2.wav\n",
       "2  [-338.8608703613281, 132.85476684570312, 6.337...  afrikaans3.wav\n",
       "3  [-285.78668212890625, 136.85784912109375, 8.95...  afrikaans4.wav\n",
       "4  [-371.3587646484375, 134.38897705078125, 3.720...  afrikaans5.wav"
      ]
     },
     "execution_count": 27,
     "metadata": {},
     "output_type": "execute_result"
    }
   ],
   "source": [
    "audio_df = pd.read_pickle('../data/audio_features.pkl')\n",
    "audio_df.head()"
   ]
  },
  {
   "cell_type": "code",
   "execution_count": 28,
   "metadata": {},
   "outputs": [
    {
     "name": "stdout",
     "output_type": "stream",
     "text": [
      "Unique Countries:  234\n"
     ]
    },
    {
     "data": {
      "text/plain": [
       "country\n",
       "english        658\n",
       "spanish        240\n",
       "arabic         198\n",
       "mandarin       156\n",
       "korean          99\n",
       "              ... \n",
       "nandi            1\n",
       "nama             1\n",
       "mortlockese      1\n",
       "moore            1\n",
       "zulu             1\n",
       "Name: count, Length: 234, dtype: int64"
      ]
     },
     "execution_count": 28,
     "metadata": {},
     "output_type": "execute_result"
    }
   ],
   "source": [
    "audio_df['country'] = audio_df['file'].str.replace('\\d+\\.wav', '', regex=True)\n",
    "print('Unique Countries: ', len(audio_df['country'].unique()))\n",
    "audio_df['country'].value_counts()"
   ]
  },
  {
   "cell_type": "code",
   "execution_count": 29,
   "metadata": {},
   "outputs": [
    {
     "name": "stdout",
     "output_type": "stream",
     "text": [
      "Unique Countries:  141\n"
     ]
    },
    {
     "data": {
      "text/plain": [
       "country\n",
       "english       658\n",
       "spanish       240\n",
       "arabic        198\n",
       "mandarin      156\n",
       "korean         99\n",
       "             ... \n",
       "hmong           2\n",
       "quechua         2\n",
       "hiligaynon      2\n",
       "satawalese      2\n",
       "hadiyya         2\n",
       "Name: count, Length: 141, dtype: int64"
      ]
     },
     "execution_count": 29,
     "metadata": {},
     "output_type": "execute_result"
    }
   ],
   "source": [
    "# Similar to before, remove the single instances\n",
    "value_counts = audio_df['country'].value_counts()\n",
    "to_remove = value_counts[value_counts < 2].index\n",
    "audio_df = audio_df[~audio_df['country'].isin(to_remove)]\n",
    "value_counts = audio_df['country'].value_counts()\n",
    "print('Unique Countries: ', len(audio_df['country'].unique()))\n",
    "value_counts"
   ]
  },
  {
   "cell_type": "code",
   "execution_count": 30,
   "metadata": {},
   "outputs": [
    {
     "name": "stdout",
     "output_type": "stream",
     "text": [
      "                          precision    recall  f1-score   support\n",
      "\n",
      "                albanian       1.00      0.00      0.00         1\n",
      "                 amharic       0.00      0.00      1.00         6\n",
      "                  arabic       0.21      0.28      0.24        43\n",
      "                armenian       1.00      0.00      0.00         2\n",
      "                     asl       1.00      0.00      0.00         1\n",
      "             azerbaijani       1.00      0.00      0.00         2\n",
      "                    bari       1.00      0.00      0.00         1\n",
      "                  basque       1.00      0.00      0.00         1\n",
      "                 bengali       1.00      0.00      0.00         6\n",
      "                 bosnian       1.00      0.00      0.00         1\n",
      "               bulgarian       0.00      0.00      1.00         8\n",
      "               cantonese       1.00      0.00      0.00         6\n",
      "                croatian       0.00      0.00      1.00         2\n",
      "                   czech       1.00      0.00      0.00         1\n",
      "                  danish       1.00      0.00      0.00         1\n",
      "                    dari       1.00      0.00      0.00         6\n",
      "                   dutch       1.00      0.00      0.00        16\n",
      "                 english       0.27      0.92      0.42       130\n",
      "                estonian       1.00      0.00      0.00         1\n",
      "                     ewe       1.00      0.00      0.00         1\n",
      "                   fanti       1.00      0.00      0.00         1\n",
      "                   farsi       1.00      0.00      0.00         4\n",
      "                  fijian       1.00      0.00      0.00         2\n",
      "                 finnish       1.00      0.00      0.00         2\n",
      "                  french       1.00      0.04      0.08        25\n",
      "                   ganda       1.00      0.00      0.00         1\n",
      "                georgian       1.00      0.00      0.00         1\n",
      "                  german       1.00      0.00      0.00         9\n",
      "                   greek       1.00      0.00      0.00         5\n",
      "                gujarati       1.00      0.00      0.00         2\n",
      "                   gusii       1.00      0.00      0.00         1\n",
      "                 hadiyya       1.00      0.00      0.00         2\n",
      "     haitiancreolefrench       1.00      0.00      0.00         1\n",
      "                   hausa       1.00      0.00      0.00         4\n",
      "                  hebrew       1.00      0.00      0.00         3\n",
      "              hiligaynon       1.00      0.00      0.00         1\n",
      "                   hindi       1.00      0.00      0.00         8\n",
      "               hungarian       1.00      0.00      0.00         4\n",
      "                  ibibio       1.00      0.00      0.00         1\n",
      "                    igbo       1.00      0.00      0.00         2\n",
      "              indonesian       1.00      0.00      0.00         2\n",
      "                 italian       1.00      0.00      0.00         9\n",
      " jamaican_creole_english       1.00      0.00      0.00         1\n",
      "                japanese       1.00      0.00      0.00         7\n",
      "                kambaata       1.00      0.00      0.00         1\n",
      "                 kannada       1.00      0.00      0.00         1\n",
      "                  kazakh       1.00      0.00      0.00         1\n",
      "                   khmer       1.00      0.00      0.00         2\n",
      "                  kikuyu       1.00      0.00      0.00         1\n",
      "               kiswahili       1.00      0.00      0.00         1\n",
      "                  korean       0.17      0.05      0.08        19\n",
      "                    krio       1.00      0.00      0.00         2\n",
      "                 kurdish       1.00      0.00      0.00         5\n",
      "                  kyrgyz       1.00      0.00      0.00         1\n",
      "              lithuanian       0.00      0.00      1.00         2\n",
      "              macedonian       0.00      0.00      1.00         4\n",
      "                   malay       1.00      0.00      0.00         1\n",
      "               malayalam       1.00      0.00      0.00         2\n",
      "                 maltese       1.00      0.00      0.00         1\n",
      "                mandarin       0.17      0.08      0.11        24\n",
      "                 marathi       1.00      0.00      0.00         2\n",
      "                   mende       1.00      0.00      0.00         1\n",
      "               mongolian       1.00      0.00      0.00         2\n",
      "                  nepali       1.00      0.00      0.00         7\n",
      "                  ngemba       1.00      0.00      0.00         1\n",
      "nicaragua_creole_english       1.00      0.00      0.00         2\n",
      "                   oromo       1.00      0.00      0.00         1\n",
      "                  pashto       1.00      0.00      0.00         1\n",
      "                  polish       1.00      0.00      0.00         6\n",
      "              portuguese       1.00      0.00      0.00        12\n",
      "                 punjabi       1.00      0.00      0.00         5\n",
      "                romanian       1.00      0.00      0.00         4\n",
      "                 russian       0.00      0.00      1.00        15\n",
      "                 serbian       1.00      0.00      0.00         2\n",
      "                   shona       1.00      0.00      0.00         1\n",
      "                 sinhala       1.00      0.00      0.00         1\n",
      "                  slovak       1.00      0.00      0.00         2\n",
      "               slovenian       1.00      0.00      0.00         1\n",
      "                  somali       1.00      0.00      0.00         2\n",
      "                 spanish       0.19      0.19      0.19        52\n",
      "                 swedish       1.00      0.00      0.00         2\n",
      "             swissgerman       1.00      0.00      0.00         2\n",
      "             synthesized       1.00      0.00      0.00         1\n",
      "                 tagalog       1.00      0.00      0.00         5\n",
      "               taiwanese       1.00      0.00      0.00         2\n",
      "                  tajiki       1.00      0.67      0.80         3\n",
      "                   tamil       1.00      0.00      0.00         2\n",
      "                  telugu       1.00      0.00      0.00         4\n",
      "                    thai       1.00      0.00      0.00         5\n",
      "                tigrigna       1.00      0.00      0.00         1\n",
      "                 turkish       1.00      0.00      0.00         7\n",
      "                     twi       1.00      0.00      0.00         2\n",
      "               ukrainian       1.00      0.00      0.00         2\n",
      "                    urdu       1.00      0.00      0.00         7\n",
      "                  uyghur       1.00      0.00      0.00         2\n",
      "              vietnamese       1.00      0.00      0.00         7\n",
      "                  vlaams       1.00      0.00      0.00         1\n",
      "                    voro       1.00      0.00      0.00         1\n",
      "                   xiang       1.00      0.00      0.00         1\n",
      "                 yiddish       1.00      0.00      0.00         3\n",
      "                  yoruba       1.00      0.00      0.00         1\n",
      "                   yupik       1.00      0.00      0.00         2\n",
      "\n",
      "                accuracy                           0.25       585\n",
      "               macro avg       0.90      0.02      0.08       585\n",
      "            weighted avg       0.58      0.25      0.20       585\n",
      "\n"
     ]
    }
   ],
   "source": [
    "# Split the features and the labels\n",
    "from sklearn.discriminant_analysis import StandardScaler\n",
    "from sklearn.metrics import classification_report\n",
    "\n",
    "\n",
    "X = np.array(audio_df['features'].tolist())\n",
    "y = np.array(audio_df['country'].tolist())\n",
    "\n",
    "# Split the dataset into training and testing sets\n",
    "X_train, X_test, y_train, y_test = train_test_split(X, y, test_size=0.2, random_state=42)\n",
    "\n",
    "# Feature scaling\n",
    "scaler = StandardScaler()\n",
    "X_train = scaler.fit_transform(X_train)\n",
    "X_test = scaler.transform(X_test)\n",
    "\n",
    "# Initialize and train classifier\n",
    "model = RandomForestClassifier(n_estimators=100, random_state=42)\n",
    "model.fit(X_train, y_train)\n",
    "\n",
    "# Predict and evaluate the model\n",
    "predictions = model.predict(X_test)\n",
    "print(classification_report(y_test, predictions, zero_division=True))"
   ]
  },
  {
   "cell_type": "code",
   "execution_count": 31,
   "metadata": {},
   "outputs": [
    {
     "data": {
      "text/plain": [
       "(2923, 21)"
      ]
     },
     "execution_count": 31,
     "metadata": {},
     "output_type": "execute_result"
    }
   ],
   "source": [
    "X.shape"
   ]
  },
  {
   "cell_type": "code",
   "execution_count": 32,
   "metadata": {},
   "outputs": [],
   "source": [
    "def test_top_occurence_custom(x_test, y_test, k):\n",
    "    y_probs = model.predict_proba(x_test)\n",
    "    top_preds_indices = np.argsort(y_probs, axis=1)[:, -k:]\n",
    "    top_class_labels = np.array(model.classes_)[top_preds_indices]\n",
    "    y_test_array = y_test\n",
    "    # Check if the true labels are within the top k predictions\n",
    "    matches_top = np.array([y_test_array[i] in top_class_labels[i] for i in range(len(y_test_array))])\n",
    "    return matches_top.mean()"
   ]
  },
  {
   "cell_type": "code",
   "execution_count": 33,
   "metadata": {},
   "outputs": [],
   "source": [
    "accuracies_wav = [test_top_occurence_custom(X_test, y_test, k) for k in top_k]"
   ]
  },
  {
   "cell_type": "markdown",
   "metadata": {},
   "source": [
    "# Phoneme vs Vectorized vs Audio Features"
   ]
  },
  {
   "cell_type": "code",
   "execution_count": 34,
   "metadata": {},
   "outputs": [
    {
     "data": {
      "image/png": "[encoded data removed]",
      "text/plain": [
       "<Figure size 1000x500 with 1 Axes>"
      ]
     },
     "metadata": {},
     "output_type": "display_data"
    }
   ],
   "source": [
    "# Plotting the data\n",
    "plt.figure(figsize=(10, 5))  \n",
    "plt.plot(top_k, accuracies_phon, color = 'blue', label = 'Phonetic Features')  \n",
    "plt.plot(top_k, accuracies_vec, color = 'red', label = 'Transcription Vectorizer')  \n",
    "plt.plot(top_k, accuracies_wav, color = 'green', label = 'Audio Features')  \n",
    "plt.title('Accuracy by Top k')  \n",
    "plt.xlabel('Top k')  \n",
    "plt.ylabel('Accuracy') \n",
    "plt.grid(True) \n",
    "plt.xticks(range(0, 105, 5))  # Ensure all model numbers are labeled\n",
    "plt.ylim(0, 1.0)  # Optionally set the y-axis limits to zoom in on accuracies\n",
    "plt.legend()\n",
    "plt.show()"
   ]
  },
  {
   "cell_type": "markdown",
   "metadata": {},
   "source": [
    "- Overall, The three models basically performed relatively the same, however, some of them are more space efficient than others.\n",
    "- When we were looking at a single true labels, none of the models performed well, however, considering that our 'guessing' accuracy is around 1/124 (1/number of possible labels)=0.08% (or 1/141 for the audio features case since we are considering the entire dataset for that), our model(s) was able to do very well compared to that baseline.\n",
    "- It improved even further when we considered top_k bins, in which we checked whether the true label was among the top most probable choices for the models predictions, our accuracy jumped to 60% around the top 15-10 mark, which, considering the number of classes we have to distinguish between is very good."
   ]
  },
  {
   "cell_type": "markdown",
   "metadata": {},
   "source": []
  }
 ],
 "metadata": {
  "kernelspec": {
   "display_name": "Python 3",
   "language": "python",
   "name": "python3"
  },
  "language_info": {
   "codemirror_mode": {
    "name": "ipython",
    "version": 3
   },
   "file_extension": ".py",
   "mimetype": "text/x-python",
   "name": "python",
   "nbconvert_exporter": "python",
   "pygments_lexer": "ipython3",
   "version": "3.9.13"
  }
 },
 "nbformat": 4,
 "nbformat_minor": 2
}
