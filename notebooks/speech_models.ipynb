{
 "cells": [
  {
   "cell_type": "code",
   "execution_count": 27,
   "metadata": {},
   "outputs": [],
   "source": [
    "import librosa\n",
    "import numpy as np\n",
    "import pandas as pd\n",
    "import os\n",
    "import glob"
   ]
  },
  {
   "cell_type": "code",
   "execution_count": 28,
   "metadata": {},
   "outputs": [],
   "source": [
    "# Function to extract features from an audio file\n",
    "def extract_features(file_path):\n",
    "    try:\n",
    "        audio, sample_rate = librosa.load(file_path, sr=None)\n",
    "        # MFCC\n",
    "        mfccs = librosa.feature.mfcc(y=audio, sr=sample_rate, n_mfcc=20)\n",
    "        mfccs_processed = np.mean(mfccs.T, axis=0)\n",
    "        \n",
    "        # Spectral Centroid\n",
    "        spectral_centroids = librosa.feature.spectral_centroid(y=audio, sr=sample_rate)\n",
    "        spectral_centroids_processed = np.mean(spectral_centroids.T, axis=0)\n",
    "        \n",
    "        # Concatenate all features\n",
    "        features = np.hstack((mfccs_processed, spectral_centroids_processed))\n",
    "        return features\n",
    "    except Exception as e:\n",
    "        print(f\"Error encountered while parsing file: {file_path}, {e}\")\n",
    "        return None"
   ]
  },
  {
   "cell_type": "code",
   "execution_count": 29,
   "metadata": {},
   "outputs": [
    {
     "data": {
      "text/plain": [
       "['../data/processed_wav_files\\\\afrikaans1.wav',\n",
       " '../data/processed_wav_files\\\\afrikaans2.wav',\n",
       " '../data/processed_wav_files\\\\afrikaans3.wav',\n",
       " '../data/processed_wav_files\\\\afrikaans4.wav',\n",
       " '../data/processed_wav_files\\\\afrikaans5.wav']"
      ]
     },
     "execution_count": 29,
     "metadata": {},
     "output_type": "execute_result"
    }
   ],
   "source": [
    "audio_directory = '../data/processed_wav_files/'\n",
    "audio_files = glob.glob(os.path.join(audio_directory, '*.wav'))\n",
    "audio_files[:5]"
   ]
  },
  {
   "cell_type": "code",
   "execution_count": 30,
   "metadata": {},
   "outputs": [
    {
     "name": "stderr",
     "output_type": "stream",
     "text": [
      "Processing audio files: 100%|██████████| 3016/3016 [09:14<00:00,  5.43it/s]\n"
     ]
    }
   ],
   "source": [
    "import re\n",
    "from tqdm import tqdm  # Import tqdm\n",
    "\n",
    "features_list = []\n",
    "for file in tqdm(audio_files, desc=\"Processing audio files\"):\n",
    "    features = extract_features(file)\n",
    "    if features is not None:\n",
    "        # Assuming file naming convention includes the country code as the prefix\n",
    "        label = os.path.basename(file)\n",
    "        features_list.append([features, label])"
   ]
  },
  {
   "cell_type": "code",
   "execution_count": 31,
   "metadata": {},
   "outputs": [],
   "source": [
    "features_df = pd.DataFrame(features_list, columns=['features', 'file'])\n",
    "features_df.to_pickle('../data/audio_features.pkl')"
   ]
  },
  {
   "cell_type": "code",
   "execution_count": 32,
   "metadata": {},
   "outputs": [
    {
     "data": {
      "text/html": [
       "<div>\n",
       "<style scoped>\n",
       "    .dataframe tbody tr th:only-of-type {\n",
       "        vertical-align: middle;\n",
       "    }\n",
       "\n",
       "    .dataframe tbody tr th {\n",
       "        vertical-align: top;\n",
       "    }\n",
       "\n",
       "    .dataframe thead th {\n",
       "        text-align: right;\n",
       "    }\n",
       "</style>\n",
       "<table border=\"1\" class=\"dataframe\">\n",
       "  <thead>\n",
       "    <tr style=\"text-align: right;\">\n",
       "      <th></th>\n",
       "      <th>features</th>\n",
       "      <th>file</th>\n",
       "    </tr>\n",
       "  </thead>\n",
       "  <tbody>\n",
       "    <tr>\n",
       "      <th>0</th>\n",
       "      <td>[-320.2046203613281, 113.08561706542969, 13.68...</td>\n",
       "      <td>afrikaans1.wav</td>\n",
       "    </tr>\n",
       "    <tr>\n",
       "      <th>1</th>\n",
       "      <td>[-293.78033447265625, 124.66605377197266, -6.4...</td>\n",
       "      <td>afrikaans2.wav</td>\n",
       "    </tr>\n",
       "    <tr>\n",
       "      <th>2</th>\n",
       "      <td>[-338.8608703613281, 132.85476684570312, 6.337...</td>\n",
       "      <td>afrikaans3.wav</td>\n",
       "    </tr>\n",
       "    <tr>\n",
       "      <th>3</th>\n",
       "      <td>[-285.78668212890625, 136.85784912109375, 8.95...</td>\n",
       "      <td>afrikaans4.wav</td>\n",
       "    </tr>\n",
       "    <tr>\n",
       "      <th>4</th>\n",
       "      <td>[-371.3587646484375, 134.38897705078125, 3.720...</td>\n",
       "      <td>afrikaans5.wav</td>\n",
       "    </tr>\n",
       "  </tbody>\n",
       "</table>\n",
       "</div>"
      ],
      "text/plain": [
       "                                            features            file\n",
       "0  [-320.2046203613281, 113.08561706542969, 13.68...  afrikaans1.wav\n",
       "1  [-293.78033447265625, 124.66605377197266, -6.4...  afrikaans2.wav\n",
       "2  [-338.8608703613281, 132.85476684570312, 6.337...  afrikaans3.wav\n",
       "3  [-285.78668212890625, 136.85784912109375, 8.95...  afrikaans4.wav\n",
       "4  [-371.3587646484375, 134.38897705078125, 3.720...  afrikaans5.wav"
      ]
     },
     "execution_count": 32,
     "metadata": {},
     "output_type": "execute_result"
    }
   ],
   "source": [
    "features_df.head()"
   ]
  },
  {
   "cell_type": "code",
   "execution_count": null,
   "metadata": {},
   "outputs": [],
   "source": []
  }
 ],
 "metadata": {
  "kernelspec": {
   "display_name": "Python 3",
   "language": "python",
   "name": "python3"
  },
  "language_info": {
   "codemirror_mode": {
    "name": "ipython",
    "version": 3
   },
   "file_extension": ".py",
   "mimetype": "text/x-python",
   "name": "python",
   "nbconvert_exporter": "python",
   "pygments_lexer": "ipython3",
   "version": "3.11.9"
  }
 },
 "nbformat": 4,
 "nbformat_minor": 2
}
